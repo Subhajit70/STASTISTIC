{
 "cells": [
  {
   "cell_type": "code",
   "execution_count": 1,
   "id": "aaf68e45-8765-4544-9202-807455935ddd",
   "metadata": {},
   "outputs": [],
   "source": [
    "import numpy as np\n",
    "import pandas as pd\n",
    "import matplotlib.pyplot as plt\n",
    "import seaborn as sns\n",
    "import warnings"
   ]
  },
  {
   "cell_type": "code",
   "execution_count": 2,
   "id": "7ce71113-804f-41ba-885d-5c34d020b280",
   "metadata": {},
   "outputs": [],
   "source": [
    "#1. Generate a list 100 integers containing values between 90 to 30 and store it in the variable `int_list` After generating the list, find the following"
   ]
  },
  {
   "cell_type": "code",
   "execution_count": 3,
   "id": "21febf7e-071a-42dd-97f7-70435ab861ca",
   "metadata": {},
   "outputs": [],
   "source": [
    "import random\n",
    "\n",
    "int_list = [random.randint(30, 90) for _ in range(100)]"
   ]
  },
  {
   "cell_type": "code",
   "execution_count": 4,
   "id": "a29760b2-0c34-4dce-ba51-7c00233d5067",
   "metadata": {},
   "outputs": [
    {
     "data": {
      "text/plain": [
       "[50,\n",
       " 50,\n",
       " 44,\n",
       " 54,\n",
       " 33,\n",
       " 37,\n",
       " 58,\n",
       " 75,\n",
       " 31,\n",
       " 87,\n",
       " 78,\n",
       " 43,\n",
       " 53,\n",
       " 50,\n",
       " 59,\n",
       " 69,\n",
       " 65,\n",
       " 52,\n",
       " 62,\n",
       " 52,\n",
       " 43,\n",
       " 59,\n",
       " 33,\n",
       " 34,\n",
       " 58,\n",
       " 60,\n",
       " 30,\n",
       " 63,\n",
       " 51,\n",
       " 87,\n",
       " 47,\n",
       " 54,\n",
       " 46,\n",
       " 42,\n",
       " 86,\n",
       " 66,\n",
       " 79,\n",
       " 45,\n",
       " 41,\n",
       " 70,\n",
       " 48,\n",
       " 79,\n",
       " 39,\n",
       " 68,\n",
       " 33,\n",
       " 43,\n",
       " 77,\n",
       " 79,\n",
       " 74,\n",
       " 72,\n",
       " 81,\n",
       " 62,\n",
       " 84,\n",
       " 66,\n",
       " 78,\n",
       " 56,\n",
       " 49,\n",
       " 30,\n",
       " 43,\n",
       " 79,\n",
       " 88,\n",
       " 43,\n",
       " 84,\n",
       " 38,\n",
       " 90,\n",
       " 33,\n",
       " 61,\n",
       " 54,\n",
       " 74,\n",
       " 61,\n",
       " 31,\n",
       " 52,\n",
       " 54,\n",
       " 67,\n",
       " 86,\n",
       " 52,\n",
       " 34,\n",
       " 57,\n",
       " 36,\n",
       " 33,\n",
       " 83,\n",
       " 62,\n",
       " 59,\n",
       " 45,\n",
       " 71,\n",
       " 46,\n",
       " 69,\n",
       " 83,\n",
       " 52,\n",
       " 70,\n",
       " 65,\n",
       " 30,\n",
       " 84,\n",
       " 36,\n",
       " 34,\n",
       " 33,\n",
       " 80,\n",
       " 44,\n",
       " 75,\n",
       " 65]"
      ]
     },
     "execution_count": 4,
     "metadata": {},
     "output_type": "execute_result"
    }
   ],
   "source": [
    "int_list"
   ]
  },
  {
   "cell_type": "code",
   "execution_count": 5,
   "id": "5c4cc6cc-cb57-4bb3-be7d-bd81f087cd2a",
   "metadata": {},
   "outputs": [
    {
     "data": {
      "text/plain": [
       "57.5"
      ]
     },
     "execution_count": 5,
     "metadata": {},
     "output_type": "execute_result"
    }
   ],
   "source": [
    "\n",
    "\n",
    "np.mean(int_list)\n"
   ]
  },
  {
   "cell_type": "code",
   "execution_count": 6,
   "id": "8228a40d-3197-4ebf-9ce9-09ad5b84bfc0",
   "metadata": {},
   "outputs": [
    {
     "data": {
      "text/plain": [
       "56.5"
      ]
     },
     "execution_count": 6,
     "metadata": {},
     "output_type": "execute_result"
    }
   ],
   "source": [
    "np.median(int_list)"
   ]
  },
  {
   "cell_type": "code",
   "execution_count": 7,
   "id": "30f04e4e-51f5-4bd0-9dd2-b3b5a2c88279",
   "metadata": {},
   "outputs": [
    {
     "name": "stdout",
     "output_type": "stream",
     "text": [
      "Average of the list: 57.50\n"
     ]
    }
   ],
   "source": [
    "#(i) Write a Python function to calculate the mean of a given list of numbers.\n",
    "\n",
    "def mean(lst):\n",
    "    return sum(lst) / len(lst)\n",
    "\n",
    "# Example usage\n",
    "my_list = int_list\n",
    "result = mean(my_list)\n",
    "print(f\"Average of the list: {result:.2f}\")"
   ]
  },
  {
   "cell_type": "code",
   "execution_count": 8,
   "id": "6c6b395f-180b-46aa-b095-26addee0e1b7",
   "metadata": {},
   "outputs": [
    {
     "name": "stdout",
     "output_type": "stream",
     "text": [
      "The median of the list is: 56.5\n"
     ]
    }
   ],
   "source": [
    "#Create a function to find the median of a list of number\n",
    "import statistics\n",
    "\n",
    "def calculate_median(numbers):\n",
    "    return statistics.median(numbers)\n",
    "\n",
    "# Example usage:\n",
    "my_list = int_list\n",
    "median_value = calculate_median(my_list)\n",
    "print(f\"The median of the list is: {median_value}\")\n",
    "\n"
   ]
  },
  {
   "cell_type": "code",
   "execution_count": 9,
   "id": "5292561d-e328-4e41-9a25-61b9959126c1",
   "metadata": {},
   "outputs": [
    {
     "name": "stdout",
     "output_type": "stream",
     "text": [
      "Mode(s): [33]\n"
     ]
    }
   ],
   "source": [
    "# (ii) Develop a program to compute the mode of a list of integers\n",
    "\n",
    "from collections import Counter\n",
    "\n",
    "def find_mode(my_list):\n",
    "    counter = Counter(my_list)\n",
    "    max_count = max(counter.values())\n",
    "    mode = [k for k, v in counter.items() if v == max_count]\n",
    "    return mode\n",
    "\n",
    "# Example usage:\n",
    "my_list = int_list\n",
    "mode_values = find_mode(my_list)\n",
    "print(f\"Mode(s): {mode_values}\")\n"
   ]
  },
  {
   "cell_type": "code",
   "execution_count": 10,
   "id": "d50d2020-8f28-4513-a27b-584e0a12ed0d",
   "metadata": {},
   "outputs": [
    {
     "name": "stdout",
     "output_type": "stream",
     "text": [
      "Weighted Mean: 86.47\n"
     ]
    }
   ],
   "source": [
    "# (iii) Implement a function to calculate the weighted mean of a list of values and their corresponding weights\n",
    "import pandas as pd\n",
    "\n",
    "def weighted_mean(dataframe, value_col, weight_col):\n",
    "    \"\"\"\n",
    "    Calculates the weighted mean of a Pandas DataFrame column.\n",
    "    \n",
    "    Args:\n",
    "        dataframe (pd.DataFrame): The DataFrame containing the data.\n",
    "        value_col (str): Name of the column with values.\n",
    "        weight_col (str): Name of the column with weights.\n",
    "    \n",
    "    Returns:\n",
    "        float: Weighted mean.\n",
    "    \"\"\"\n",
    "    values = dataframe[value_col]\n",
    "    weights = dataframe[weight_col]\n",
    "    \n",
    "    weighted_sum = (values * weights).sum()\n",
    "    total_weight = weights.sum()\n",
    "    \n",
    "    weighted_mean = weighted_sum / total_weight\n",
    "    return weighted_mean\n",
    "\n",
    "# Example usage:\n",
    "data = {\n",
    "    'value': [90, 85, 95, 85, 70],\n",
    "    'weight': [3, 2, 4, 6, 2]\n",
    "}\n",
    "\n",
    "df = pd.DataFrame(data)\n",
    "result = weighted_mean(df, 'value', 'weight')\n",
    "print(f\"Weighted Mean: {result:.2f}\")\n",
    "\n"
   ]
  },
  {
   "cell_type": "code",
   "execution_count": 11,
   "id": "63f082fd-12aa-4527-89ed-c61f65651c24",
   "metadata": {},
   "outputs": [
    {
     "name": "stdout",
     "output_type": "stream",
     "text": [
      "Geometric mean: 54.7976\n"
     ]
    }
   ],
   "source": [
    "# (iv) Write a Python function to find the geometric mean of a list of positive numbers\n",
    "\n",
    "\n",
    "from scipy.stats import gmean\n",
    "\n",
    "# Define a list of positive numbers\n",
    "numbers = int_list\n",
    "\n",
    "# Calculate the geometric mean\n",
    "result = gmean(numbers)\n",
    "print(f\"Geometric mean: {result:.4f}\")\n"
   ]
  },
  {
   "cell_type": "code",
   "execution_count": 12,
   "id": "b5b48ab8-e63c-457e-861c-06ff4ab427b7",
   "metadata": {},
   "outputs": [
    {
     "name": "stdout",
     "output_type": "stream",
     "text": [
      "The harmonic mean of the list is: 52.067597\n"
     ]
    }
   ],
   "source": [
    "#  (v) Create a program to calculate the harmonic mean of a list of values\n",
    "import statistics\n",
    "\n",
    "test_list = int_list\n",
    "result = statistics.harmonic_mean(test_list)\n",
    "print(f\"The harmonic mean of the list is: {result:.6f}\")\n",
    "\n"
   ]
  },
  {
   "cell_type": "code",
   "execution_count": 13,
   "id": "1464d2f8-63a5-440d-9238-b6d8d7947201",
   "metadata": {},
   "outputs": [
    {
     "name": "stdout",
     "output_type": "stream",
     "text": [
      "Midrange: 60.0\n"
     ]
    }
   ],
   "source": [
    "# (vi) Build a function to determine the midrange of a list of numbers (average of the minimum and maximum).\n",
    "def midrange(numbers):\n",
    "    \"\"\"\n",
    "    Calculates the midrange of a list of numbers.\n",
    "    \n",
    "    Args:\n",
    "        numbers (list): A list of numeric values.\n",
    "        \n",
    "    Returns:\n",
    "        float: The midrange value.\n",
    "    \"\"\"\n",
    "    if not numbers:\n",
    "        raise ValueError(\"Input list is empty.\")\n",
    "    \n",
    "    min_value = min(numbers)\n",
    "    max_value = max(numbers)\n",
    "    \n",
    "    midrange_value = (min_value + max_value) / 2\n",
    "    return midrange_value\n",
    "\n",
    "# Example usage:\n",
    "my_numbers = int_list\n",
    "result = midrange(my_numbers)\n",
    "print(f\"Midrange: {result}\")\n",
    "\n"
   ]
  },
  {
   "cell_type": "code",
   "execution_count": 14,
   "id": "41469af2-c982-42ce-b081-5a8e3f25d8c2",
   "metadata": {},
   "outputs": [
    {
     "name": "stdout",
     "output_type": "stream",
     "text": [
      "Trimmed mean: 57.17\n"
     ]
    }
   ],
   "source": [
    "#  (vii) Implement a Python program to find the trimmed mean of a list, excluding a certain percentage of outliers\n",
    "\n",
    "\n",
    "import numpy as np\n",
    "\n",
    "def trimmed_mean(lst, trim_percentage=0.1):\n",
    "    # Sort the list\n",
    "    sorted_lst = sorted(lst)\n",
    "    \n",
    "    # Determine the indices for trimming\n",
    "    trim_start = int(len(sorted_lst) * trim_percentage)\n",
    "    trim_end = int(len(sorted_lst) * (1 - trim_percentage))\n",
    "    \n",
    "    # Extract the trimmed portion\n",
    "    trimmed_lst = sorted_lst[trim_start:trim_end]\n",
    "    \n",
    "    # Calculate the trimmed mean\n",
    "    return sum(trimmed_lst) / len(trimmed_lst)\n",
    "\n",
    "# Example usage\n",
    "data =int_list\n",
    "trimmed_result = trimmed_mean(data)\n",
    "print(f\"Trimmed mean: {trimmed_result:.2f}\")\n",
    "\n"
   ]
  },
  {
   "cell_type": "code",
   "execution_count": 15,
   "id": "892b02a3-ced6-4169-b593-ea6d98f21241",
   "metadata": {},
   "outputs": [],
   "source": [
    "#2 Generate a list of 500 integers containing values between 200 to 300 and store it in the variable `int_list2`. After generating the list, find the following\n",
    "\n",
    "import random\n",
    "\n",
    "int_list2 = [random.randint(200, 300) for _ in range(500)]"
   ]
  },
  {
   "cell_type": "code",
   "execution_count": 16,
   "id": "05249411-9846-4a94-90ae-06e18337ddfc",
   "metadata": {},
   "outputs": [
    {
     "data": {
      "text/plain": [
       "<AxesSubplot: ylabel='Count'>"
      ]
     },
     "execution_count": 16,
     "metadata": {},
     "output_type": "execute_result"
    },
    {
     "data": {
      "image/png": "[encoded data removed]",
      "text/plain": [
       "<Figure size 640x480 with 1 Axes>"
      ]
     },
     "metadata": {},
     "output_type": "display_data"
    }
   ],
   "source": [
    "# (i) Compare the given list of visualization for the given data\n",
    "\n",
    "#  1.frequency distribution\n",
    "frequency=int_list\n",
    "\n",
    "sns.histplot(frequency,color=\"g\")\n",
    "\n"
   ]
  },
  {
   "cell_type": "code",
   "execution_count": 17,
   "id": "d17a5940-15fb-40a6-ac0d-622c44ff1788",
   "metadata": {},
   "outputs": [
    {
     "data": {
      "image/png": "[encoded data removed]",
      "text/plain": [
       "<Figure size 640x480 with 1 Axes>"
      ]
     },
     "metadata": {},
     "output_type": "display_data"
    }
   ],
   "source": [
    "#gussian distributtion\n",
    "\n",
    "\n",
    "import numpy as np\n",
    "import matplotlib.pyplot as plt\n",
    "import scipy.stats as ss\n",
    "\n",
    "# Create a grid of points\n",
    "x, y = np.meshgrid(np.linspace(-3, 3, 100), np.linspace(-3, 3, 100))\n",
    "pos = np.dstack((x, y))\n",
    "\n",
    "# Define mean and covariance matrix\n",
    "mean = np.array([0, 0])\n",
    "cov_matrix = np.array([[1, 0.5], [0.5, 1]])\n",
    "\n",
    "# Compute the density function\n",
    "rv = ss.multivariate_normal(mean, cov_matrix)\n",
    "z = rv.pdf(pos)\n",
    "\n",
    "# Plot the contour\n",
    "plt.contourf(x, y, z, levels=20)\n",
    "plt.xlabel('X')\n",
    "plt.ylabel('Y')\n",
    "plt.title('Bivariate Gaussian Distribution')\n",
    "plt.show()\n"
   ]
  },
  {
   "cell_type": "code",
   "execution_count": 18,
   "id": "4d381b03-bba5-49ac-ad10-65755fdb8129",
   "metadata": {},
   "outputs": [
    {
     "data": {
      "text/plain": [
       "<AxesSubplot: ylabel='Count'>"
      ]
     },
     "execution_count": 18,
     "metadata": {},
     "output_type": "execute_result"
    },
    {
     "data": {
      "image/png": "[encoded data removed]",
      "text/plain": [
       "<Figure size 640x480 with 1 Axes>"
      ]
     },
     "metadata": {},
     "output_type": "display_data"
    }
   ],
   "source": [
    "#2Frequency smoothened KDE plot\n",
    "\n",
    "frequency=int_list\n",
    "\n",
    "sns.histplot(frequency,kde=True,color=\"g\")\n"
   ]
  },
  {
   "cell_type": "code",
   "execution_count": 19,
   "id": "639d242b-d53c-4e8d-ad29-fa7f1e38975e",
   "metadata": {},
   "outputs": [
    {
     "data": {
      "image/png": "[encoded data removed]",
      "text/plain": [
       "<Figure size 640x480 with 1 Axes>"
      ]
     },
     "metadata": {},
     "output_type": "display_data"
    }
   ],
   "source": [
    "#3 Gaussian distribution & smoothened KDE plot\n",
    "\n",
    "\n",
    "# Example Python program that draws a KDE plot\n",
    "# using a normal kernel\n",
    "import numpy as np\n",
    "import seaborn as sbn\n",
    "import matplotlib.pyplot as plt\n",
    "\n",
    "# Generate data points\n",
    "data = int_list2\n",
    "\n",
    "# Use gaussian kernel to plot the Kernel Density Estimation\n",
    "sbn.kdeplot(data);\n",
    "plt.show();\n",
    "\n"
   ]
  },
  {
   "cell_type": "code",
   "execution_count": 20,
   "id": "e18ac646-a5d3-46ec-ae83-d30b243acce8",
   "metadata": {},
   "outputs": [
    {
     "name": "stdout",
     "output_type": "stream",
     "text": [
      "The range of the list [266, 286, 223, 254, 238, 225, 201, 260, 243, 285, 299, 276, 262, 286, 246, 206, 286, 223, 251, 204, 263, 273, 299, 296, 270, 268, 200, 217, 265, 222, 209, 219, 242, 209, 293, 235, 219, 247, 278, 246, 256, 204, 241, 239, 210, 239, 273, 210, 249, 261, 202, 230, 233, 230, 206, 234, 240, 234, 266, 259, 286, 245, 283, 272, 298, 234, 209, 232, 206, 203, 299, 251, 289, 226, 233, 294, 255, 272, 273, 243, 289, 237, 287, 297, 285, 231, 228, 298, 245, 233, 246, 200, 231, 290, 273, 270, 225, 255, 249, 299, 251, 236, 256, 285, 230, 242, 277, 205, 268, 229, 235, 207, 289, 265, 237, 217, 271, 277, 283, 229, 206, 289, 210, 295, 224, 225, 291, 289, 259, 272, 258, 271, 296, 235, 249, 298, 298, 216, 228, 240, 228, 212, 280, 286, 206, 288, 205, 287, 295, 240, 202, 285, 247, 256, 262, 276, 217, 300, 298, 294, 291, 244, 204, 294, 275, 237, 278, 217, 274, 231, 264, 239, 263, 254, 209, 271, 271, 240, 221, 265, 210, 242, 265, 235, 260, 225, 297, 279, 286, 291, 203, 214, 277, 288, 300, 209, 229, 222, 203, 215, 287, 267, 213, 209, 255, 265, 291, 255, 279, 242, 219, 289, 206, 297, 251, 283, 297, 275, 246, 217, 227, 217, 265, 224, 261, 300, 259, 216, 234, 216, 209, 218, 230, 296, 241, 245, 227, 216, 235, 273, 204, 213, 213, 286, 295, 252, 266, 278, 252, 300, 257, 265, 211, 214, 276, 274, 263, 257, 235, 224, 265, 264, 246, 226, 297, 263, 292, 296, 203, 298, 269, 244, 272, 234, 250, 207, 281, 300, 211, 257, 222, 280, 250, 245, 259, 265, 253, 232, 269, 200, 235, 234, 235, 221, 226, 243, 270, 235, 282, 232, 288, 264, 240, 251, 211, 249, 289, 221, 225, 296, 292, 258, 210, 286, 250, 291, 230, 204, 236, 249, 206, 268, 227, 256, 253, 213, 277, 229, 262, 209, 204, 297, 226, 220, 287, 251, 204, 299, 280, 221, 281, 240, 213, 250, 200, 275, 264, 298, 277, 219, 253, 297, 203, 292, 251, 275, 207, 283, 280, 252, 271, 274, 260, 232, 234, 252, 214, 245, 279, 205, 271, 231, 251, 237, 227, 237, 267, 240, 206, 255, 246, 220, 289, 208, 282, 281, 295, 296, 210, 287, 267, 204, 230, 277, 290, 200, 211, 252, 294, 259, 299, 223, 295, 216, 252, 223, 296, 295, 256, 273, 238, 222, 248, 259, 214, 255, 216, 284, 254, 219, 254, 268, 266, 283, 269, 261, 205, 239, 294, 208, 268, 246, 209, 273, 240, 285, 230, 290, 233, 237, 224, 282, 249, 245, 288, 216, 283, 220, 202, 225, 203, 215, 282, 264, 291, 204, 211, 223, 297, 238, 265, 267, 244, 276, 241, 203, 222, 276, 250, 224, 203, 209, 266, 204, 238, 288, 259, 257, 263, 279, 251, 257, 274, 209, 277, 260, 201, 227, 251, 278, 253, 280, 255, 246, 248, 228, 297, 210, 219, 249] is 100.\n"
     ]
    }
   ],
   "source": [
    "# (ii) Write a Python function to calculate the range of a given list of numbers.\n",
    "def calculate_range(numbers):\n",
    "    \n",
    "    if not numbers:\n",
    "        return None\n",
    "\n",
    "    return max(numbers) - min(numbers)\n",
    "\n",
    "# Example usage\n",
    "numbers_list = int_list2\n",
    "result = calculate_range(numbers_list)\n",
    "print(f\"The range of the list {numbers_list} is {result}.\")\n",
    "\n",
    "\n"
   ]
  },
  {
   "cell_type": "code",
   "execution_count": 21,
   "id": "96c2ad1a-3c49-43bb-b27a-8d75ca8351ca",
   "metadata": {},
   "outputs": [
    {
     "name": "stdout",
     "output_type": "stream",
     "text": [
      "Variance: 879.96\n",
      "Standard Deviation: 29.66\n"
     ]
    }
   ],
   "source": [
    "#  (iii) Create a program to find the variance and standard deviation of a list of numbers\n",
    "\n",
    "import statistics\n",
    "\n",
    "# Example list of numbers\n",
    "numbers =int_list2\n",
    "\n",
    "# Calculate variance\n",
    "variance = statistics.variance(numbers)\n",
    "\n",
    "# Calculate standard deviation\n",
    "standard_deviation = statistics.stdev(numbers)\n",
    "\n",
    "# Print results\n",
    "print(f\"Variance: {variance:.2f}\")\n",
    "print(f\"Standard Deviation: {standard_deviation:.2f}\")\n",
    "\n"
   ]
  },
  {
   "cell_type": "code",
   "execution_count": 22,
   "id": "d365762c-d2e6-4d6c-8c95-36a9741a03cc",
   "metadata": {},
   "outputs": [
    {
     "name": "stdout",
     "output_type": "stream",
     "text": [
      "The interquartile range (IQR) of the data is: 51.0\n"
     ]
    }
   ],
   "source": [
    "#  (iv) Implement a function to compute the interquartile range (IQR) of a list of values\n",
    "import numpy as np\n",
    "\n",
    "def compute_iqr(values):\n",
    "    \n",
    "    q1 = np.percentile(values, 25)\n",
    "    q3 = np.percentile(values, 75)\n",
    "    iqr = q3 - q1\n",
    "    return iqr\n",
    "\n",
    "# Example usage\n",
    "data = int_list2\n",
    "iqr_result = compute_iqr(data)\n",
    "print(f\"The interquartile range (IQR) of the data is: {iqr_result}\")\n",
    "\n"
   ]
  },
  {
   "cell_type": "code",
   "execution_count": 23,
   "id": "8a36c162-a321-4394-9717-d2c17df7e150",
   "metadata": {},
   "outputs": [
    {
     "name": "stdout",
     "output_type": "stream",
     "text": [
      "**Coefficient of Variation**: 11.83%\n"
     ]
    }
   ],
   "source": [
    "# (v) Build a program to calculate the coefficient of variation for a dataset\n",
    "\n",
    "def coefficient_of_variation(data):\n",
    "    \"\"\"\n",
    "    Calculates the coefficient of variation (CV) for a given dataset.\n",
    "\n",
    "    Args:\n",
    "        data (list or numpy array): The dataset.\n",
    "\n",
    "    Returns:\n",
    "        float: The coefficient of variation.\n",
    "    \"\"\"\n",
    "    import numpy as np\n",
    "\n",
    "    # Convert data to numpy array\n",
    "    data_array = np.array(data)\n",
    "\n",
    "    # Calculate mean and standard deviation\n",
    "    mean = np.mean(data_array)\n",
    "    std_dev = np.std(data_array)\n",
    "\n",
    "    # Calculate coefficient of variation\n",
    "    cv = (std_dev / mean) * 100\n",
    "\n",
    "    return cv\n",
    "\n",
    "# Example usage\n",
    "dataset = int_list2\n",
    "cv_result = coefficient_of_variation(dataset)\n",
    "print(f\"**Coefficient of Variation**: {cv_result:.2f}%\")\n",
    "\n"
   ]
  },
  {
   "cell_type": "code",
   "execution_count": 24,
   "id": "5717be22-ada9-4421-b3b8-9e39f4d4937d",
   "metadata": {},
   "outputs": [
    {
     "name": "stdout",
     "output_type": "stream",
     "text": [
      "Mean Absolute Deviation (MAD) of [50, 50, 44, 54, 33, 37, 58, 75, 31, 87, 78, 43, 53, 50, 59, 69, 65, 52, 62, 52, 43, 59, 33, 34, 58, 60, 30, 63, 51, 87, 47, 54, 46, 42, 86, 66, 79, 45, 41, 70, 48, 79, 39, 68, 33, 43, 77, 79, 74, 72, 81, 62, 84, 66, 78, 56, 49, 30, 43, 79, 88, 43, 84, 38, 90, 33, 61, 54, 74, 61, 31, 52, 54, 67, 86, 52, 34, 57, 36, 33, 83, 62, 59, 45, 71, 46, 69, 83, 52, 70, 65, 30, 84, 36, 34, 33, 80, 44, 75, 65]: 14.79\n"
     ]
    }
   ],
   "source": [
    "# (vi) Write a Python function to find the mean absolute deviation (MAD) of a list of numbers.\n",
    "\n",
    "def mean_absolute_deviation(numbers):\n",
    "    \"\"\"\n",
    "    Calculates the Mean Absolute Deviation (MAD) of a list of numbers.\n",
    "\n",
    "    Args:\n",
    "        numbers (list): List of numeric values.\n",
    "\n",
    "    Returns:\n",
    "        float: Mean Absolute Deviation.\n",
    "    \"\"\"\n",
    "    if not numbers:\n",
    "        raise ValueError(\"Input list is empty\")\n",
    "\n",
    "    # Calculate the mean\n",
    "    mean = sum(numbers) / len(numbers)\n",
    "\n",
    "    # Calculate the absolute deviations from the mean\n",
    "    deviations = [abs(x - mean) for x in numbers]\n",
    "\n",
    "    # Calculate the mean of the absolute deviations\n",
    "    mad = sum(deviations) / len(numbers)\n",
    "\n",
    "    return mad\n",
    "\n",
    "# Example usage\n",
    "numbers_list = int_list\n",
    "mad_result = mean_absolute_deviation(numbers_list)\n",
    "print(f\"Mean Absolute Deviation (MAD) of {numbers_list}: {mad_result:.2f}\")\n"
   ]
  },
  {
   "cell_type": "code",
   "execution_count": 25,
   "id": "cdf1ed1c-4de9-4c65-af63-2be9b9178803",
   "metadata": {},
   "outputs": [
    {
     "name": "stdout",
     "output_type": "stream",
     "text": [
      "The quartile deviation of the given values is **14.00**.\n"
     ]
    }
   ],
   "source": [
    "#  (vii) Create a program to calculate the quartile deviation of a list of values\n",
    "\n",
    "def calculate_quartile_deviation(values):\n",
    "    # Sort the values in ascending order\n",
    "    sorted_values = sorted(values)\n",
    "    \n",
    "    # Calculate the first quartile (Q1)\n",
    "    n = len(sorted_values)\n",
    "    q1_index = (n + 1) // 4\n",
    "    q1 = sorted_values[q1_index - 1]\n",
    "    \n",
    "    # Calculate the third quartile (Q3)\n",
    "    q3_index = 3 * q1_index\n",
    "    q3 = sorted_values[q3_index - 1]\n",
    "    \n",
    "    # Calculate the quartile deviation\n",
    "    quartile_deviation = (q3 - q1) / 2\n",
    "    \n",
    "    return quartile_deviation\n",
    "\n",
    "# Example usage\n",
    "values = int_list\n",
    "qd = calculate_quartile_deviation(values)\n",
    "print(f\"The quartile deviation of the given values is **{qd:.2f}**.\")\n"
   ]
  },
  {
   "cell_type": "code",
   "execution_count": 26,
   "id": "c6d9fa0e-28ab-4682-b5f1-4113b51d2e80",
   "metadata": {},
   "outputs": [
    {
     "name": "stdout",
     "output_type": "stream",
     "text": [
      "Range-based coefficient of dispersion: 1.04\n"
     ]
    }
   ],
   "source": [
    "#  (viii) Implement a function to find the range-based coefficient of dispersion for a dataset\n",
    "\n",
    "def range_based_coefficient_of_dispersion(data):\n",
    "    \"\"\"\n",
    "    Calculates the range-based coefficient of dispersion for a given dataset.\n",
    "\n",
    "    Args:\n",
    "        data (list or tuple): A list of numerical values.\n",
    "\n",
    "    Returns:\n",
    "        float: The range-based coefficient of dispersion.\n",
    "    \"\"\"\n",
    "    if len(data) < 2:\n",
    "        raise ValueError(\"Dataset must contain at least 2 values.\")\n",
    "\n",
    "    # Calculate the range (maximum - minimum)\n",
    "    data_range = max(data) - min(data)\n",
    "\n",
    "    # Calculate the mean\n",
    "    data_mean = sum(data) / len(data)\n",
    "\n",
    "    # Calculate the coefficient of dispersion\n",
    "    coefficient_of_dispersion = data_range / data_mean\n",
    "\n",
    "    return coefficient_of_dispersion\n",
    "\n",
    "# Example usage\n",
    "dataset = int_list\n",
    "result = range_based_coefficient_of_dispersion(dataset)\n",
    "print(f\"Range-based coefficient of dispersion: {result:.2f}\")\n"
   ]
  },
  {
   "cell_type": "code",
   "execution_count": 27,
   "id": "5a3ce5eb-4c79-4fa2-863a-3f857b847534",
   "metadata": {},
   "outputs": [
    {
     "name": "stdout",
     "output_type": "stream",
     "text": [
      "Expected value: 2.4\n",
      "Variance: 0.8400000000000001\n"
     ]
    }
   ],
   "source": [
    "#3)  Write a Python class representing a discrete random variable with methods to calculate its expected value and variance.\n",
    "class DiscreteRandomVariable:\n",
    "    def __init__(self, values, probabilities):\n",
    "        \"\"\"\n",
    "        Initialize a discrete random variable.\n",
    "\n",
    "        Args:\n",
    "            values (list): List of possible values of the random variable.\n",
    "            probabilities (list): List of corresponding probabilities for each value.\n",
    "        \"\"\"\n",
    "        self.values = values\n",
    "        self.probabilities = probabilities\n",
    "\n",
    "    def expected_value(self):\n",
    "        \"\"\"\n",
    "        Calculate the expected value (mean) of the random variable.\n",
    "\n",
    "        Returns:\n",
    "            float: Expected value.\n",
    "        \"\"\"\n",
    "        expected_value = sum(val * prob for val, prob in zip(self.values, self.probabilities))\n",
    "        return expected_value\n",
    "\n",
    "    def variance(self):\n",
    "        \"\"\"\n",
    "        Calculate the variance of the random variable.\n",
    "\n",
    "        Returns:\n",
    "            float: Variance.\n",
    "        \"\"\"\n",
    "        mean = self.expected_value()\n",
    "        variance = sum((val - mean) ** 2 * prob for val, prob in zip(self.values, self.probabilities))\n",
    "        return variance\n",
    "\n",
    "# Example usage\n",
    "values = [1, 2, 3, 4]\n",
    "probabilities = [0.2, 0.3, 0.4, 0.1]\n",
    "\n",
    "# Create a discrete random variable\n",
    "rv = DiscreteRandomVariable(values, probabilities)\n",
    "\n",
    "# Calculate and print the expected value and variance\n",
    "print(f\"Expected value: {rv.expected_value()}\")\n",
    "print(f\"Variance: {rv.variance()}\")\n"
   ]
  },
  {
   "cell_type": "code",
   "execution_count": 28,
   "id": "4a925437-9893-4d9d-8615-4dc7b599cb2b",
   "metadata": {},
   "outputs": [
    {
     "name": "stdout",
     "output_type": "stream",
     "text": [
      "Expected value: 3.50\n",
      "Variance: 2.92\n"
     ]
    }
   ],
   "source": [
    "#0) Implement a program to simulate the rolling f6 a fair six-sided die and calculate the expected value and variance o6 the outcomes.\n",
    "import random\n",
    "\n",
    "# Simulate rolling a fair six-sided die\n",
    "def roll_die():\n",
    "    return random.randint(1, 6)\n",
    "\n",
    "# Number of trials\n",
    "num_trials = 100000\n",
    "\n",
    "# Initialize variables for expected value and variance\n",
    "expected_value = 0\n",
    "variance = 0\n",
    "\n",
    "# Simulate rolling the die and calculate expected value and variance\n",
    "for _ in range(num_trials):\n",
    "    outcome = roll_die()\n",
    "    expected_value += outcome\n",
    "    variance += outcome ** 2\n",
    "\n",
    "# Calculate the average\n",
    "expected_value /= num_trials\n",
    "\n",
    "# Calculate the variance\n",
    "variance = (variance / num_trials) - (expected_value ** 2)\n",
    "\n",
    "# Print results\n",
    "print(f\"Expected value: {expected_value:.2f}\")\n",
    "print(f\"Variance: {variance:.2f}\")\n"
   ]
  },
  {
   "cell_type": "code",
   "execution_count": 29,
   "id": "16d1232d-e120-4d0b-8e07-8ff1fed8b3c4",
   "metadata": {},
   "outputs": [],
   "source": [
    "#3) Create a Python function to generate random samples from a given probability distribution (e.g., binomial, Poisson) and calculate their mean and variance\n",
    "import numpy as np\n",
    "import scipy.stats as stats\n",
    "\n",
    "def generate_samples(dist_name, params, sample_size):\n",
    "    \"\"\"\n",
    "    Generates random samples from a given probability distribution.\n",
    "\n",
    "    Args:\n",
    "        dist_name (str): Name of the distribution (e.g., 'binomial', 'poisson').\n",
    "        params (tuple): Parameters specific to the distribution (e.g., (n, p) for binomial, (mu,) for Poisson).\n",
    "        sample_size (int): Number of samples to generate.\n",
    "\n",
    "    Returns:\n",
    "        np.ndarray: Array of random samples.\n",
    "    \"\"\"\n",
    "    if dist_name == 'binomial':\n",
    "        n, p = params\n",
    "        samples = np.random.binomial(n, p, size=sample_size)\n",
    "    elif dist_name == 'poisson':\n",
    "        mu, = params\n",
    "        samples = np.random.poisson(mu, size=sample_size)\n",
    "    else:\n",
    "        raise ValueError(f\"Unsupported distribution: {dist_name}\")\n",
    "    \n",
    "    return samples\n",
    "\n",
    "def calculate_mean_and_variance(samples):\n",
    "    \"\"\"\n",
    "    Calculates the mean and variance of the given samples.\n",
    "\n",
    "    Args:\n",
    "        samples (np.ndarray): Array of random samples.\n",
    "\n",
    "    Returns:\n",
    "        float: Mean of the samples.\n",
    "        float: Variance of the samples.\n",
    "    \"\"\"\n",
    "    mean = np.mean(samples)\n",
    "    variance = np.var(samples)\n",
    "    return mean, variance\n",
    "\n",
    "\n"
   ]
  },
  {
   "cell_type": "code",
   "execution_count": 30,
   "id": "5ab132c5-f5db-46d7-a41a-95db389a5ad4",
   "metadata": {},
   "outputs": [
    {
     "name": "stdout",
     "output_type": "stream",
     "text": [
      "Mean: -0.018533268799233376\n",
      "Variance: 0.9820834110681714\n",
      "Standard Deviation: 0.9910012164816809\n"
     ]
    }
   ],
   "source": [
    "#6) Write a Python script to generate random numbers from a Gaussian (normal) distribution and compute the mean, variance, and standard deviation of the samples\n",
    "\n",
    "import numpy as np\n",
    "\n",
    "# Generate 1000 random numbers from a Gaussian distribution with mean 0 and standard deviation 1\n",
    "samples = np.random.normal(loc=0, scale=1, size=1000)\n",
    "\n",
    "# Compute the mean, variance, and standard deviation\n",
    "mean = np.mean(samples)\n",
    "variance = np.var(samples)\n",
    "std_dev = np.std(samples)\n",
    "\n",
    "# Print the results\n",
    "print(f\"Mean: {mean}\")\n",
    "print(f\"Variance: {variance}\")\n",
    "print(f\"Standard Deviation: {std_dev}\")\n"
   ]
  },
  {
   "cell_type": "code",
   "execution_count": 31,
   "id": "211d34a5-765c-429f-a6ae-611d71fc1034",
   "metadata": {},
   "outputs": [],
   "source": [
    "#7) Use seaborn library to load tips dataset. Find the 6ollowing 6rom the dataset 6or the columns total_bill and tip`\n",
    "\n",
    "df=sns.load_dataset(\"tips\")"
   ]
  },
  {
   "cell_type": "code",
   "execution_count": 32,
   "id": "0aa5714b-97c7-4d17-a2fe-6f7b2bda010a",
   "metadata": {},
   "outputs": [
    {
     "data": {
      "text/plain": [
       "0      16.99\n",
       "1      10.34\n",
       "2      21.01\n",
       "3      23.68\n",
       "4      24.59\n",
       "       ...  \n",
       "239    29.03\n",
       "240    27.18\n",
       "241    22.67\n",
       "242    17.82\n",
       "243    18.78\n",
       "Name: total_bill, Length: 244, dtype: float64"
      ]
     },
     "execution_count": 32,
     "metadata": {},
     "output_type": "execute_result"
    }
   ],
   "source": [
    "df['total_bill']"
   ]
  },
  {
   "cell_type": "code",
   "execution_count": 33,
   "id": "87383e7d-05b7-402d-92c2-490fcb668a2a",
   "metadata": {},
   "outputs": [
    {
     "data": {
      "text/plain": [
       "Index(['total_bill', 'tip', 'sex', 'smoker', 'day', 'time', 'size'], dtype='object')"
      ]
     },
     "execution_count": 33,
     "metadata": {},
     "output_type": "execute_result"
    }
   ],
   "source": [
    "df.columns"
   ]
  },
  {
   "cell_type": "code",
   "execution_count": 34,
   "id": "444fec86-7bc3-4081-b4e3-6a5880d88c68",
   "metadata": {},
   "outputs": [
    {
     "data": {
      "text/plain": [
       "1.1262346334818638"
      ]
     },
     "execution_count": 34,
     "metadata": {},
     "output_type": "execute_result"
    }
   ],
   "source": [
    "#  (i) Write a Python functuon that calculates their skewness\n",
    "\n",
    "from scipy.stats import skew\n",
    "\n",
    "def calculate_skewness(data):\n",
    "    # Calculate the skewness of the dataset\n",
    "    skewness = skew(data)\n",
    "    return skewness\n",
    "\n",
    "\n",
    "\n",
    "calculate_skewness(df['total_bill'])\n"
   ]
  },
  {
   "cell_type": "code",
   "execution_count": 35,
   "id": "3532c15c-df7e-4b9c-9091-ad81ab2ed16c",
   "metadata": {},
   "outputs": [
    {
     "data": {
      "text/plain": [
       "0      1.01\n",
       "1      1.66\n",
       "2      3.50\n",
       "3      3.31\n",
       "4      3.61\n",
       "       ... \n",
       "239    5.92\n",
       "240    2.00\n",
       "241    2.00\n",
       "242    1.75\n",
       "243    3.00\n",
       "Name: tip, Length: 244, dtype: float64"
      ]
     },
     "execution_count": 35,
     "metadata": {},
     "output_type": "execute_result"
    }
   ],
   "source": [
    "df[\"tip\"]"
   ]
  },
  {
   "cell_type": "code",
   "execution_count": 36,
   "id": "ec9d211b-7f3a-445e-aee9-6e977c07d638",
   "metadata": {},
   "outputs": [
    {
     "data": {
      "text/plain": [
       "1.4564266884221506"
      ]
     },
     "execution_count": 36,
     "metadata": {},
     "output_type": "execute_result"
    }
   ],
   "source": [
    "from scipy.stats import skew\n",
    "\n",
    "def calculate_skewness(data):\n",
    "    # Calculate the skewness of the dataset\n",
    "    skewness = skew(data)\n",
    "    return skewness\n",
    "\n",
    "\n",
    "\n",
    "calculate_skewness(df[\"tip\"])\n"
   ]
  },
  {
   "cell_type": "code",
   "execution_count": 37,
   "id": "adba96ae-3d80-415d-ab97-5be398143b65",
   "metadata": {},
   "outputs": [],
   "source": [
    "df=sns.load_dataset(\"tips\")"
   ]
  },
  {
   "cell_type": "code",
   "execution_count": 38,
   "id": "14d637cd-c0d5-4a4b-ace7-43c56be1433e",
   "metadata": {},
   "outputs": [
    {
     "data": {
      "text/html": [
       "<div>\n",
       "<style scoped>\n",
       "    .dataframe tbody tr th:only-of-type {\n",
       "        vertical-align: middle;\n",
       "    }\n",
       "\n",
       "    .dataframe tbody tr th {\n",
       "        vertical-align: top;\n",
       "    }\n",
       "\n",
       "    .dataframe thead th {\n",
       "        text-align: right;\n",
       "    }\n",
       "</style>\n",
       "<table border=\"1\" class=\"dataframe\">\n",
       "  <thead>\n",
       "    <tr style=\"text-align: right;\">\n",
       "      <th></th>\n",
       "      <th>total_bill</th>\n",
       "      <th>tip</th>\n",
       "      <th>sex</th>\n",
       "      <th>smoker</th>\n",
       "      <th>day</th>\n",
       "      <th>time</th>\n",
       "      <th>size</th>\n",
       "    </tr>\n",
       "  </thead>\n",
       "  <tbody>\n",
       "    <tr>\n",
       "      <th>0</th>\n",
       "      <td>16.99</td>\n",
       "      <td>1.01</td>\n",
       "      <td>Female</td>\n",
       "      <td>No</td>\n",
       "      <td>Sun</td>\n",
       "      <td>Dinner</td>\n",
       "      <td>2</td>\n",
       "    </tr>\n",
       "    <tr>\n",
       "      <th>1</th>\n",
       "      <td>10.34</td>\n",
       "      <td>1.66</td>\n",
       "      <td>Male</td>\n",
       "      <td>No</td>\n",
       "      <td>Sun</td>\n",
       "      <td>Dinner</td>\n",
       "      <td>3</td>\n",
       "    </tr>\n",
       "    <tr>\n",
       "      <th>2</th>\n",
       "      <td>21.01</td>\n",
       "      <td>3.50</td>\n",
       "      <td>Male</td>\n",
       "      <td>No</td>\n",
       "      <td>Sun</td>\n",
       "      <td>Dinner</td>\n",
       "      <td>3</td>\n",
       "    </tr>\n",
       "    <tr>\n",
       "      <th>3</th>\n",
       "      <td>23.68</td>\n",
       "      <td>3.31</td>\n",
       "      <td>Male</td>\n",
       "      <td>No</td>\n",
       "      <td>Sun</td>\n",
       "      <td>Dinner</td>\n",
       "      <td>2</td>\n",
       "    </tr>\n",
       "    <tr>\n",
       "      <th>4</th>\n",
       "      <td>24.59</td>\n",
       "      <td>3.61</td>\n",
       "      <td>Female</td>\n",
       "      <td>No</td>\n",
       "      <td>Sun</td>\n",
       "      <td>Dinner</td>\n",
       "      <td>4</td>\n",
       "    </tr>\n",
       "    <tr>\n",
       "      <th>...</th>\n",
       "      <td>...</td>\n",
       "      <td>...</td>\n",
       "      <td>...</td>\n",
       "      <td>...</td>\n",
       "      <td>...</td>\n",
       "      <td>...</td>\n",
       "      <td>...</td>\n",
       "    </tr>\n",
       "    <tr>\n",
       "      <th>239</th>\n",
       "      <td>29.03</td>\n",
       "      <td>5.92</td>\n",
       "      <td>Male</td>\n",
       "      <td>No</td>\n",
       "      <td>Sat</td>\n",
       "      <td>Dinner</td>\n",
       "      <td>3</td>\n",
       "    </tr>\n",
       "    <tr>\n",
       "      <th>240</th>\n",
       "      <td>27.18</td>\n",
       "      <td>2.00</td>\n",
       "      <td>Female</td>\n",
       "      <td>Yes</td>\n",
       "      <td>Sat</td>\n",
       "      <td>Dinner</td>\n",
       "      <td>2</td>\n",
       "    </tr>\n",
       "    <tr>\n",
       "      <th>241</th>\n",
       "      <td>22.67</td>\n",
       "      <td>2.00</td>\n",
       "      <td>Male</td>\n",
       "      <td>Yes</td>\n",
       "      <td>Sat</td>\n",
       "      <td>Dinner</td>\n",
       "      <td>2</td>\n",
       "    </tr>\n",
       "    <tr>\n",
       "      <th>242</th>\n",
       "      <td>17.82</td>\n",
       "      <td>1.75</td>\n",
       "      <td>Male</td>\n",
       "      <td>No</td>\n",
       "      <td>Sat</td>\n",
       "      <td>Dinner</td>\n",
       "      <td>2</td>\n",
       "    </tr>\n",
       "    <tr>\n",
       "      <th>243</th>\n",
       "      <td>18.78</td>\n",
       "      <td>3.00</td>\n",
       "      <td>Female</td>\n",
       "      <td>No</td>\n",
       "      <td>Thur</td>\n",
       "      <td>Dinner</td>\n",
       "      <td>2</td>\n",
       "    </tr>\n",
       "  </tbody>\n",
       "</table>\n",
       "<p>244 rows × 7 columns</p>\n",
       "</div>"
      ],
      "text/plain": [
       "     total_bill   tip     sex smoker   day    time  size\n",
       "0         16.99  1.01  Female     No   Sun  Dinner     2\n",
       "1         10.34  1.66    Male     No   Sun  Dinner     3\n",
       "2         21.01  3.50    Male     No   Sun  Dinner     3\n",
       "3         23.68  3.31    Male     No   Sun  Dinner     2\n",
       "4         24.59  3.61  Female     No   Sun  Dinner     4\n",
       "..          ...   ...     ...    ...   ...     ...   ...\n",
       "239       29.03  5.92    Male     No   Sat  Dinner     3\n",
       "240       27.18  2.00  Female    Yes   Sat  Dinner     2\n",
       "241       22.67  2.00    Male    Yes   Sat  Dinner     2\n",
       "242       17.82  1.75    Male     No   Sat  Dinner     2\n",
       "243       18.78  3.00  Female     No  Thur  Dinner     2\n",
       "\n",
       "[244 rows x 7 columns]"
      ]
     },
     "execution_count": 38,
     "metadata": {},
     "output_type": "execute_result"
    }
   ],
   "source": [
    "df"
   ]
  },
  {
   "cell_type": "code",
   "execution_count": 39,
   "id": "0854430b-22df-4867-86ff-4504e9f399bb",
   "metadata": {},
   "outputs": [
    {
     "name": "stdout",
     "output_type": "stream",
     "text": [
      "Column1: Approximately symmetric\n",
      "Column2: Positive skewness\n",
      "Column3: Approximately symmetric\n"
     ]
    },
    {
     "name": "stderr",
     "output_type": "stream",
     "text": [
      "/tmp/ipykernel_84/573061657.py:23: RuntimeWarning: Precision loss occurred in moment calculation due to catastrophic cancellation. This occurs when the data are nearly identical. Results may be unreliable.\n",
      "  skewness_value = skew(df[column])\n"
     ]
    }
   ],
   "source": [
    "#  (ii) Create a program that determines whether the columns exhibit positive skewness, negative skewness, or is approximately symmetric.\n",
    "\n",
    "\n",
    "import pandas as pd\n",
    "from scipy.stats import skew\n",
    "\n",
    "# Load your dataset as a pandas DataFrame\n",
    "# df = pd.read_csv('your_dataset.csv')\n",
    "\n",
    "# Replace the above line with the actual loading of your dataset\n",
    "# For demonstration, let's create a sample DataFrame\n",
    "data = {\n",
    "    'Column1': [1, 2, 3, 4, 5],\n",
    "    'Column2': [2, 8, 0, 2, 1],\n",
    "    'Column3': [9, 9, 9, 9, 9]\n",
    "}\n",
    "df = pd.DataFrame(data)\n",
    "\n",
    "# Function to determine the skewness\n",
    "def determine_skewness(df):\n",
    "    skewness_results = {}\n",
    "    for column in df.columns:\n",
    "        skewness_value = skew(df[column])\n",
    "        if skewness_value > 0:\n",
    "            skewness_results[column] = 'Positive skewness'\n",
    "        elif skewness_value < 0:\n",
    "            skewness_results[column] = 'Negative skewness'\n",
    "        else:\n",
    "            skewness_results[column] = 'Approximately symmetric'\n",
    "    return skewness_results\n",
    "\n",
    "# Get the skewness results for each column\n",
    "skewness_results = determine_skewness(df)\n",
    "for column, result in skewness_results.items():\n",
    "    print(f'{column}: {result}')\n"
   ]
  },
  {
   "cell_type": "code",
   "execution_count": 40,
   "id": "18f2c447-9f20-4538-bc0b-b68cc8f1690b",
   "metadata": {},
   "outputs": [
    {
     "data": {
      "text/html": [
       "<div>\n",
       "<style scoped>\n",
       "    .dataframe tbody tr th:only-of-type {\n",
       "        vertical-align: middle;\n",
       "    }\n",
       "\n",
       "    .dataframe tbody tr th {\n",
       "        vertical-align: top;\n",
       "    }\n",
       "\n",
       "    .dataframe thead th {\n",
       "        text-align: right;\n",
       "    }\n",
       "</style>\n",
       "<table border=\"1\" class=\"dataframe\">\n",
       "  <thead>\n",
       "    <tr style=\"text-align: right;\">\n",
       "      <th></th>\n",
       "      <th>Column1</th>\n",
       "      <th>Column2</th>\n",
       "      <th>Column3</th>\n",
       "    </tr>\n",
       "  </thead>\n",
       "  <tbody>\n",
       "    <tr>\n",
       "      <th>0</th>\n",
       "      <td>1</td>\n",
       "      <td>2</td>\n",
       "      <td>9</td>\n",
       "    </tr>\n",
       "    <tr>\n",
       "      <th>1</th>\n",
       "      <td>2</td>\n",
       "      <td>8</td>\n",
       "      <td>9</td>\n",
       "    </tr>\n",
       "    <tr>\n",
       "      <th>2</th>\n",
       "      <td>3</td>\n",
       "      <td>0</td>\n",
       "      <td>9</td>\n",
       "    </tr>\n",
       "    <tr>\n",
       "      <th>3</th>\n",
       "      <td>4</td>\n",
       "      <td>2</td>\n",
       "      <td>9</td>\n",
       "    </tr>\n",
       "    <tr>\n",
       "      <th>4</th>\n",
       "      <td>5</td>\n",
       "      <td>1</td>\n",
       "      <td>9</td>\n",
       "    </tr>\n",
       "  </tbody>\n",
       "</table>\n",
       "</div>"
      ],
      "text/plain": [
       "   Column1  Column2  Column3\n",
       "0        1        2        9\n",
       "1        2        8        9\n",
       "2        3        0        9\n",
       "3        4        2        9\n",
       "4        5        1        9"
      ]
     },
     "execution_count": 40,
     "metadata": {},
     "output_type": "execute_result"
    }
   ],
   "source": [
    "df"
   ]
  },
  {
   "cell_type": "code",
   "execution_count": 41,
   "id": "686fd1b1-0d37-4888-a678-d1f2edc26202",
   "metadata": {},
   "outputs": [],
   "source": [
    "# (iii) Write a function that calculates the covariance between two columns\n",
    "\n",
    "import numpy as np\n",
    "\n",
    "import numpy as np\n",
    "\n",
    "def calculate_covariance(column1, column2):\n",
    "    # Ensure both columns have the same number of elements\n",
    "    if len(column1) != len(column2):\n",
    "        return \"The columns must have the same number of elements.\"\n",
    "    \n",
    "    # Convert columns to numpy arrays\n",
    "    col1 = \"total_bill\"\n",
    "    \n",
    "    col2 = \"tip\"\n",
    "    \n",
    "    # Calculate the mean of each column\n",
    "    mean_col1 = np.mean(col1)\n",
    "    mean_col2 = np.mean(col2)\n",
    "    \n",
    "    # Calculate the covariance\n",
    "    covariance = np.sum((col1 - mean_col1) * (col2 - mean_col2)) / (len(col1) - 1)\n",
    "    \n",
    "    return covariance\n"
   ]
  },
  {
   "cell_type": "code",
   "execution_count": 42,
   "id": "eca604f7-5aa1-4845-9cc0-ed1732c1bf59",
   "metadata": {},
   "outputs": [
    {
     "data": {
      "text/html": [
       "<div>\n",
       "<style scoped>\n",
       "    .dataframe tbody tr th:only-of-type {\n",
       "        vertical-align: middle;\n",
       "    }\n",
       "\n",
       "    .dataframe tbody tr th {\n",
       "        vertical-align: top;\n",
       "    }\n",
       "\n",
       "    .dataframe thead th {\n",
       "        text-align: right;\n",
       "    }\n",
       "</style>\n",
       "<table border=\"1\" class=\"dataframe\">\n",
       "  <thead>\n",
       "    <tr style=\"text-align: right;\">\n",
       "      <th></th>\n",
       "      <th>Column1</th>\n",
       "      <th>Column2</th>\n",
       "      <th>Column3</th>\n",
       "    </tr>\n",
       "  </thead>\n",
       "  <tbody>\n",
       "    <tr>\n",
       "      <th>0</th>\n",
       "      <td>1</td>\n",
       "      <td>2</td>\n",
       "      <td>9</td>\n",
       "    </tr>\n",
       "    <tr>\n",
       "      <th>1</th>\n",
       "      <td>2</td>\n",
       "      <td>8</td>\n",
       "      <td>9</td>\n",
       "    </tr>\n",
       "    <tr>\n",
       "      <th>2</th>\n",
       "      <td>3</td>\n",
       "      <td>0</td>\n",
       "      <td>9</td>\n",
       "    </tr>\n",
       "    <tr>\n",
       "      <th>3</th>\n",
       "      <td>4</td>\n",
       "      <td>2</td>\n",
       "      <td>9</td>\n",
       "    </tr>\n",
       "    <tr>\n",
       "      <th>4</th>\n",
       "      <td>5</td>\n",
       "      <td>1</td>\n",
       "      <td>9</td>\n",
       "    </tr>\n",
       "  </tbody>\n",
       "</table>\n",
       "</div>"
      ],
      "text/plain": [
       "   Column1  Column2  Column3\n",
       "0        1        2        9\n",
       "1        2        8        9\n",
       "2        3        0        9\n",
       "3        4        2        9\n",
       "4        5        1        9"
      ]
     },
     "execution_count": 42,
     "metadata": {},
     "output_type": "execute_result"
    }
   ],
   "source": [
    "df"
   ]
  },
  {
   "cell_type": "code",
   "execution_count": 43,
   "id": "cf69c959-970a-44ed-8d15-03287294559f",
   "metadata": {},
   "outputs": [
    {
     "ename": "KeyError",
     "evalue": "'total_bill'",
     "output_type": "error",
     "traceback": [
      "\u001b[0;31m---------------------------------------------------------------------------\u001b[0m",
      "\u001b[0;31mKeyError\u001b[0m                                  Traceback (most recent call last)",
      "File \u001b[0;32m/opt/conda/lib/python3.10/site-packages/pandas/core/indexes/base.py:3803\u001b[0m, in \u001b[0;36mIndex.get_loc\u001b[0;34m(self, key, method, tolerance)\u001b[0m\n\u001b[1;32m   3802\u001b[0m \u001b[38;5;28;01mtry\u001b[39;00m:\n\u001b[0;32m-> 3803\u001b[0m     \u001b[38;5;28;01mreturn\u001b[39;00m \u001b[38;5;28;43mself\u001b[39;49m\u001b[38;5;241;43m.\u001b[39;49m\u001b[43m_engine\u001b[49m\u001b[38;5;241;43m.\u001b[39;49m\u001b[43mget_loc\u001b[49m\u001b[43m(\u001b[49m\u001b[43mcasted_key\u001b[49m\u001b[43m)\u001b[49m\n\u001b[1;32m   3804\u001b[0m \u001b[38;5;28;01mexcept\u001b[39;00m \u001b[38;5;167;01mKeyError\u001b[39;00m \u001b[38;5;28;01mas\u001b[39;00m err:\n",
      "File \u001b[0;32m/opt/conda/lib/python3.10/site-packages/pandas/_libs/index.pyx:138\u001b[0m, in \u001b[0;36mpandas._libs.index.IndexEngine.get_loc\u001b[0;34m()\u001b[0m\n",
      "File \u001b[0;32m/opt/conda/lib/python3.10/site-packages/pandas/_libs/index.pyx:165\u001b[0m, in \u001b[0;36mpandas._libs.index.IndexEngine.get_loc\u001b[0;34m()\u001b[0m\n",
      "File \u001b[0;32mpandas/_libs/hashtable_class_helper.pxi:5745\u001b[0m, in \u001b[0;36mpandas._libs.hashtable.PyObjectHashTable.get_item\u001b[0;34m()\u001b[0m\n",
      "File \u001b[0;32mpandas/_libs/hashtable_class_helper.pxi:5753\u001b[0m, in \u001b[0;36mpandas._libs.hashtable.PyObjectHashTable.get_item\u001b[0;34m()\u001b[0m\n",
      "\u001b[0;31mKeyError\u001b[0m: 'total_bill'",
      "\nThe above exception was the direct cause of the following exception:\n",
      "\u001b[0;31mKeyError\u001b[0m                                  Traceback (most recent call last)",
      "Cell \u001b[0;32mIn[43], line 10\u001b[0m\n\u001b[1;32m      4\u001b[0m \u001b[38;5;28;01mimport\u001b[39;00m \u001b[38;5;21;01mnumpy\u001b[39;00m \u001b[38;5;28;01mas\u001b[39;00m \u001b[38;5;21;01mnp\u001b[39;00m\n\u001b[1;32m      6\u001b[0m \u001b[38;5;66;03m# Example data (replace with your own data)\u001b[39;00m\n\u001b[1;32m      7\u001b[0m \n\u001b[1;32m      8\u001b[0m \n\u001b[1;32m      9\u001b[0m \u001b[38;5;66;03m# Calculate the Pearson correlation coefficient\u001b[39;00m\n\u001b[0;32m---> 10\u001b[0m correlation_coefficient \u001b[38;5;241m=\u001b[39m \u001b[43mdf\u001b[49m\u001b[43m[\u001b[49m\u001b[38;5;124;43m'\u001b[39;49m\u001b[38;5;124;43mtotal_bill\u001b[39;49m\u001b[38;5;124;43m'\u001b[39;49m\u001b[43m]\u001b[49m\u001b[38;5;241m.\u001b[39mcorr(df[\u001b[38;5;124m'\u001b[39m\u001b[38;5;124mtip\u001b[39m\u001b[38;5;124m'\u001b[39m])\n\u001b[1;32m     12\u001b[0m \u001b[38;5;28mprint\u001b[39m(\u001b[38;5;124mf\u001b[39m\u001b[38;5;124m\"\u001b[39m\u001b[38;5;124mThe Pearson correlation coefficient between Column1 and Column2 is: \u001b[39m\u001b[38;5;132;01m{\u001b[39;00mcorrelation_coefficient\u001b[38;5;132;01m:\u001b[39;00m\u001b[38;5;124m.4f\u001b[39m\u001b[38;5;132;01m}\u001b[39;00m\u001b[38;5;124m\"\u001b[39m)\n",
      "File \u001b[0;32m/opt/conda/lib/python3.10/site-packages/pandas/core/frame.py:3805\u001b[0m, in \u001b[0;36mDataFrame.__getitem__\u001b[0;34m(self, key)\u001b[0m\n\u001b[1;32m   3803\u001b[0m \u001b[38;5;28;01mif\u001b[39;00m \u001b[38;5;28mself\u001b[39m\u001b[38;5;241m.\u001b[39mcolumns\u001b[38;5;241m.\u001b[39mnlevels \u001b[38;5;241m>\u001b[39m \u001b[38;5;241m1\u001b[39m:\n\u001b[1;32m   3804\u001b[0m     \u001b[38;5;28;01mreturn\u001b[39;00m \u001b[38;5;28mself\u001b[39m\u001b[38;5;241m.\u001b[39m_getitem_multilevel(key)\n\u001b[0;32m-> 3805\u001b[0m indexer \u001b[38;5;241m=\u001b[39m \u001b[38;5;28;43mself\u001b[39;49m\u001b[38;5;241;43m.\u001b[39;49m\u001b[43mcolumns\u001b[49m\u001b[38;5;241;43m.\u001b[39;49m\u001b[43mget_loc\u001b[49m\u001b[43m(\u001b[49m\u001b[43mkey\u001b[49m\u001b[43m)\u001b[49m\n\u001b[1;32m   3806\u001b[0m \u001b[38;5;28;01mif\u001b[39;00m is_integer(indexer):\n\u001b[1;32m   3807\u001b[0m     indexer \u001b[38;5;241m=\u001b[39m [indexer]\n",
      "File \u001b[0;32m/opt/conda/lib/python3.10/site-packages/pandas/core/indexes/base.py:3805\u001b[0m, in \u001b[0;36mIndex.get_loc\u001b[0;34m(self, key, method, tolerance)\u001b[0m\n\u001b[1;32m   3803\u001b[0m     \u001b[38;5;28;01mreturn\u001b[39;00m \u001b[38;5;28mself\u001b[39m\u001b[38;5;241m.\u001b[39m_engine\u001b[38;5;241m.\u001b[39mget_loc(casted_key)\n\u001b[1;32m   3804\u001b[0m \u001b[38;5;28;01mexcept\u001b[39;00m \u001b[38;5;167;01mKeyError\u001b[39;00m \u001b[38;5;28;01mas\u001b[39;00m err:\n\u001b[0;32m-> 3805\u001b[0m     \u001b[38;5;28;01mraise\u001b[39;00m \u001b[38;5;167;01mKeyError\u001b[39;00m(key) \u001b[38;5;28;01mfrom\u001b[39;00m \u001b[38;5;21;01merr\u001b[39;00m\n\u001b[1;32m   3806\u001b[0m \u001b[38;5;28;01mexcept\u001b[39;00m \u001b[38;5;167;01mTypeError\u001b[39;00m:\n\u001b[1;32m   3807\u001b[0m     \u001b[38;5;66;03m# If we have a listlike key, _check_indexing_error will raise\u001b[39;00m\n\u001b[1;32m   3808\u001b[0m     \u001b[38;5;66;03m#  InvalidIndexError. Otherwise we fall through and re-raise\u001b[39;00m\n\u001b[1;32m   3809\u001b[0m     \u001b[38;5;66;03m#  the TypeError.\u001b[39;00m\n\u001b[1;32m   3810\u001b[0m     \u001b[38;5;28mself\u001b[39m\u001b[38;5;241m.\u001b[39m_check_indexing_error(key)\n",
      "\u001b[0;31mKeyError\u001b[0m: 'total_bill'"
     ]
    }
   ],
   "source": [
    "# (iv) Implement a Python program that calculates the Pearson correlation coefficient between two columns\n",
    "\n",
    "import pandas as pd\n",
    "import numpy as np\n",
    "\n",
    "# Example data (replace with your own data)\n",
    "\n",
    "\n",
    "# Calculate the Pearson correlation coefficient\n",
    "correlation_coefficient = df['total_bill'].corr(df['tip'])\n",
    "\n",
    "print(f\"The Pearson correlation coefficient between Column1 and Column2 is: {correlation_coefficient:.4f}\")\n"
   ]
  },
  {
   "cell_type": "code",
   "execution_count": null,
   "id": "34cb6a0c-eca4-4c96-95c7-de880d73aa29",
   "metadata": {},
   "outputs": [],
   "source": [
    "# (v) Write a script to visualize the correlation between two specific columns in a Pandas DataFrame using scatter plots\n",
    "\n",
    "import pandas as pd\n",
    "import matplotlib.pyplot as plt\n",
    "\n",
    "\n",
    "\n",
    "# Create a scatter plot\n",
    "plt.scatter(df['total_bill'], df['tip'])\n",
    "plt.xlabel('total_bill')\n",
    "plt.ylabel('tip')\n",
    "plt.title('Scatter Plot: Column1 vs Column2')\n",
    "plt.grid(True)\n",
    "plt.show()\n"
   ]
  },
  {
   "cell_type": "code",
   "execution_count": 44,
   "id": "253b2c28-fcb2-41b6-b12b-4d9277925063",
   "metadata": {},
   "outputs": [
    {
     "name": "stdout",
     "output_type": "stream",
     "text": [
      "PDF at x = 1.5: 0.129518\n"
     ]
    }
   ],
   "source": [
    "# 8) Write a Python 6unction to calculate the probability density 6unction (PDF) o6 a continuous random variable for a given normal distribution.\n",
    "\n",
    "import math\n",
    "\n",
    "def normal_pdf(x, mu, sigma):\n",
    "    \"\"\"\n",
    "    Calculates the Probability Density Function (PDF) for a normal distribution.\n",
    "\n",
    "    Args:\n",
    "        x (float): The value of the random variable.\n",
    "        mu (float): Mean (average) of the distribution.\n",
    "        sigma (float): Standard deviation of the distribution.\n",
    "\n",
    "    Returns:\n",
    "        float: PDF value at the given x.\n",
    "    \"\"\"\n",
    "    coefficient = 1 / (math.sqrt(2 * math.pi * sigma**2))\n",
    "    exponent = -((x - mu)**2) / (2 * sigma**2)\n",
    "    pdf_value = coefficient * math.exp(exponent)\n",
    "    return pdf_value\n",
    "\n",
    "# Example usage:\n",
    "mean = 0  # Mean of the normal distribution\n",
    "std_dev = 1  # Standard deviation of the normal distribution\n",
    "x_value = 1.5  # Value of the random variable\n",
    "\n",
    "pdf_result = normal_pdf(x_value, mean, std_dev)\n",
    "print(f\"PDF at x = {x_value}: {pdf_result:.6f}\")\n"
   ]
  },
  {
   "cell_type": "code",
   "execution_count": 45,
   "id": "63f2187b-9c42-4f85-9584-39cb05b7f7cb",
   "metadata": {},
   "outputs": [
    {
     "name": "stdout",
     "output_type": "stream",
     "text": [
      "CDF at x = 2.5 is approximately 0.2212\n"
     ]
    }
   ],
   "source": [
    "#9) Create a program to calculate the cumulative distribution 6unction (CDF) of exponential distribution\n",
    "\n",
    "import math\n",
    "\n",
    "def exponential_cdf(x, rate):\n",
    "    \"\"\"\n",
    "    Calculate the cumulative distribution function (CDF) of exponential distribution.\n",
    "    \n",
    "    Args:\n",
    "        x (float): The value at which to evaluate the CDF.\n",
    "        rate (float): The rate parameter of the exponential distribution.\n",
    "    \n",
    "    Returns:\n",
    "        float: The CDF value at x.\n",
    "    \"\"\"\n",
    "    return 1 - math.exp(-rate * x)\n",
    "\n",
    "# Example usage\n",
    "x_value = 2.5  # Replace with your desired value\n",
    "rate_parameter = 0.1  # Replace with your desired rate parameter\n",
    "cdf_value = exponential_cdf(x_value, rate_parameter)\n",
    "print(f\"CDF at x = {x_value} is approximately {cdf_value:.4f}\")\n"
   ]
  },
  {
   "cell_type": "code",
   "execution_count": 46,
   "id": "d2eee2e1-d205-4cde-8ea3-71234aa19020",
   "metadata": {},
   "outputs": [
    {
     "name": "stdout",
     "output_type": "stream",
     "text": [
      "PMF for k=2 and lambda=3.5: 0.184959\n"
     ]
    }
   ],
   "source": [
    "#10) Write a Python 6unction to calculate the probability mass function (PMF) of Poisson distribution\n",
    "\n",
    "import math\n",
    "\n",
    "def poisson_pmf(k, lmbda):\n",
    "    \"\"\"\n",
    "    Calculates the PMF of a Poisson distribution.\n",
    "    \n",
    "    Args:\n",
    "        k (int): The specific number of events.\n",
    "        lmbda (float): The average rate of events per interval.\n",
    "    \n",
    "    Returns:\n",
    "        float: The probability of observing k events.\n",
    "    \"\"\"\n",
    "    if k < 0:\n",
    "        return 0\n",
    "    return (math.exp(-lmbda) * lmbda**k) / math.factorial(k)\n",
    "\n",
    "# Example usage:\n",
    "lmbda = 3.5  # Average rate of events\n",
    "k = 2        # Specific number of events\n",
    "pmf_value = poisson_pmf(k, lmbda)\n",
    "print(f\"PMF for k={k} and lambda={lmbda}: {pmf_value:.6f}\")\n"
   ]
  },
  {
   "cell_type": "code",
   "execution_count": 48,
   "id": "14628bcf-54f4-4b15-99a3-06b5d538b351",
   "metadata": {},
   "outputs": [
    {
     "name": "stdout",
     "output_type": "stream",
     "text": [
      "Fail to reject the null hypothesis. There is no significant difference in conversion rates.\n"
     ]
    }
   ],
   "source": [
    "#11A company wants to test iN a new website layout leads to a higher conversion rate (percentage oN visitors who make a purchase). They collect data Nrom the old and new layouts to compare\n",
    "\n",
    "import numpy as np\n",
    "from scipy.stats import norm\n",
    "\n",
    "# Given data\n",
    "old_purchases = 50\n",
    "old_visitors = 1000\n",
    "new_purchases = 70\n",
    "new_visitors = 1000\n",
    "\n",
    "# Calculate proportions\n",
    "p_old = old_purchases / old_visitors\n",
    "p_new = new_purchases / new_visitors\n",
    "\n",
    "# Calculate pooled proportion\n",
    "p_pooled = (old_purchases + new_purchases) / (old_visitors + new_visitors)\n",
    "\n",
    "# Calculate standard error\n",
    "se = np.sqrt(p_pooled * (1 - p_pooled) * (1 / old_visitors + 1 / new_visitors))\n",
    "\n",
    "# Calculate z-score\n",
    "z = (p_new - p_old) / se\n",
    "\n",
    "# Set significance level (alpha)\n",
    "alpha = 0.05\n",
    "\n",
    "# Calculate critical z-value for a two-tailed test\n",
    "critical_z = norm.ppf(1 - alpha / 2)\n",
    "\n",
    "# Compare z-score with critical z-value\n",
    "if abs(z) > critical_z:\n",
    "    print(\"Reject the null hypothesis. There is a significant difference in conversion rates.\")\n",
    "else:\n",
    "    print(\"Fail to reject the null hypothesis. There is no significant difference in conversion rates.\")\n"
   ]
  },
  {
   "cell_type": "code",
   "execution_count": 49,
   "id": "c83f9eec-4de3-4388-8816-dfb41fdbc92b",
   "metadata": {},
   "outputs": [
    {
     "name": "stdout",
     "output_type": "stream",
     "text": [
      "Reject the null hypothesis. The tutoring program significantly improves scores.\n",
      "Fail to reject the null hypothesis. No significant improvement in scores.\n"
     ]
    }
   ],
   "source": [
    "\n",
    "#12.M A tutoring service claims that its program improves students' exam scores. A sample oN students who  participated in the program was taken, and their scores beNore and aNter the program were recorded\n",
    "\n",
    "\n",
    "\n",
    "import numpy as np\n",
    "from statsmodels.stats.weightstats import ztest\n",
    "\n",
    "# Given data\n",
    "before_program = np.array([75, 80, 85, 70, 90, 78, 92, 88, 82, 87])\n",
    "\n",
    "# Perform one sample z-test\n",
    "z_statistic, p_value = ztest(before_program, value=0)\n",
    "\n",
    "# Check if p-value is less than α (0.05)\n",
    "if p_value < 0.05:\n",
    "    print(\"Reject the null hypothesis. The tutoring program significantly improves scores.\")\n",
    "else:\n",
    "    print(\"Fail to reject the null hypothesis. No significant improvement in scores.\")\n",
    "\n",
    "    \n",
    "    \n",
    "\n",
    "    \n",
    "    \n",
    "# Given data\n",
    "after_program = np.array([80, 85, 90, 80, 92, 80, 95, 90, 85, 88])\n",
    "\n",
    "# Perform two sample z-test\n",
    "z_statistic, p_value = ztest(before_program, after_program, value=0)\n",
    "\n",
    "# Check if p-value is less than α (0.05)\n",
    "if p_value < 0.05:\n",
    "    print(\"Reject the null hypothesis. The tutoring program significantly improves scores.\")\n",
    "else:\n",
    "    print(\"Fail to reject the null hypothesis. No significant improvement in scores.\")\n",
    "\n"
   ]
  },
  {
   "cell_type": "code",
   "execution_count": 50,
   "id": "61c79a17-da61-4156-a2ee-e555627236fe",
   "metadata": {},
   "outputs": [
    {
     "name": "stdout",
     "output_type": "stream",
     "text": [
      "Reject the null hypothesis. The drug has a significant effect on blood pressure.\n"
     ]
    }
   ],
   "source": [
    "#13.A pharmaceutical company wants to determine iN a new drug is eNNective in reducing blood pressure. They conduct a study and record blood pressure measurements beNore and aNter administering the drug\n",
    "\n",
    "\n",
    "import numpy as np\n",
    "from scipy import stats\n",
    "\n",
    "# Given data\n",
    "before_drug = np.array([145, 150, 140, 135, 155, 160, 152, 148, 130, 138])\n",
    "after_drug = np.array([130, 140, 132, 128, 145, 148, 138, 136, 125, 130])\n",
    "\n",
    "# Calculate the sample mean difference\n",
    "mean_diff = np.mean(after_drug - before_drug)\n",
    "\n",
    "# Calculate the standard error of the mean difference\n",
    "se = np.std(after_drug - before_drug, ddof=1) / np.sqrt(len(before_drug))\n",
    "\n",
    "# Population mean difference (assuming null hypothesis)\n",
    "pop_mean_diff = 0\n",
    "\n",
    "# Calculate the z-score\n",
    "z_score = (mean_diff - pop_mean_diff) / se\n",
    "\n",
    "# Two-tailed p-value\n",
    "p_value = 2 * (1 - stats.norm.cdf(np.abs(z_score)))\n",
    "\n",
    "# Set significance level (e.g., alpha = 0.05)\n",
    "alpha = 0.05\n",
    "\n",
    "# Compare p-value with alpha\n",
    "if p_value < alpha:\n",
    "    print(f\"Reject the null hypothesis. The drug has a significant effect on blood pressure.\")\n",
    "else:\n",
    "    print(f\"Fail to reject the null hypothesis. The drug does not have a significant effect on blood pressure.\")\n",
    "\n",
    "\n"
   ]
  },
  {
   "cell_type": "code",
   "execution_count": 51,
   "id": "60be9d9f-a7cb-444b-809e-4160d682c27d",
   "metadata": {},
   "outputs": [
    {
     "name": "stdout",
     "output_type": "stream",
     "text": [
      "Reject the null hypothesis. The drug has a significant effect on blood pressure.\n"
     ]
    }
   ],
   "source": [
    "#14. A custo:er service depart:ent clai:s that their average response ti:e is less than 5 :inutesV A sa:ple of recent custo:er interactions was taken, and the response ti:es were recorded\n",
    "\n",
    "import numpy as np\n",
    "from scipy import stats\n",
    "\n",
    "# Given data\n",
    "before_drug = np.array([145, 150, 140, 135, 155, 160, 152, 148, 130, 138])\n",
    "after_drug = np.array([130, 140, 132, 128, 145, 148, 138, 136, 125, 130])\n",
    "\n",
    "# Calculate the sample mean difference\n",
    "mean_diff = np.mean(after_drug - before_drug)\n",
    "\n",
    "# Calculate the standard error of the mean difference\n",
    "se = np.std(after_drug - before_drug, ddof=1) / np.sqrt(len(before_drug))\n",
    "\n",
    "# Population mean difference (assuming null hypothesis)\n",
    "pop_mean_diff = 0\n",
    "\n",
    "# Calculate the z-score\n",
    "z_score = (mean_diff - pop_mean_diff) / se\n",
    "\n",
    "# Two-tailed p-value\n",
    "p_value = 2 * (1 - stats.norm.cdf(np.abs(z_score)))\n",
    "\n",
    "# Set significance level (e.g., alpha = 0.05)\n",
    "alpha = 0.05\n",
    "\n",
    "# Compare p-value with alpha\n",
    "if p_value < alpha:\n",
    "    print(f\"Reject the null hypothesis. The drug has a significant effect on blood pressure.\")\n",
    "else:\n",
    "    print(f\"Fail to reject the null hypothesis. The drug does not have a significant effect on blood pressure.\")\n",
    "\n",
    "\n",
    "\n"
   ]
  },
  {
   "cell_type": "code",
   "execution_count": 52,
   "id": "3d0d68a4-e424-4e23-a4ec-1760a27807fe",
   "metadata": {},
   "outputs": [
    {
     "name": "stdout",
     "output_type": "stream",
     "text": [
      "Reject the null hypothesis. Layouts have different click-through rates.\n"
     ]
    }
   ],
   "source": [
    "#15.A co:pany is testing two different website layouts to see which one leads to higher click-through ratesV Write a Python function to perfor: an A/B test analysis, including calculating the t-statistic, degrees of freedo:, and p-value\n",
    "\n",
    "import numpy as np\n",
    "import scipy.stats as stats\n",
    "\n",
    "def perform_ab_test(layout_a_clicks, layout_b_clicks, alpha=0.05):\n",
    "    # Calculate mean and standard deviation\n",
    "    mean_a = np.mean(layout_a_clicks)\n",
    "    mean_b = np.mean(layout_b_clicks)\n",
    "    std_a = np.std(layout_a_clicks)\n",
    "    std_b = np.std(layout_b_clicks)\n",
    "    \n",
    "    # Calculate t-statistic\n",
    "    n_a = len(layout_a_clicks)\n",
    "    n_b = len(layout_b_clicks)\n",
    "    t_statistic = (mean_a - mean_b) / np.sqrt((std_a**2 / n_a) + (std_b**2 / n_b))\n",
    "    \n",
    "    # Calculate degrees of freedom\n",
    "    df = n_a + n_b - 2\n",
    "    \n",
    "    # Calculate p-value\n",
    "    p_value = 2 * (1 - stats.t.cdf(np.abs(t_statistic), df))\n",
    "    \n",
    "    # Compare p-value with alpha\n",
    "    if p_value < alpha:\n",
    "        print(\"Reject the null hypothesis. Layouts have different click-through rates.\")\n",
    "    else:\n",
    "        print(\"Fail to reject the null hypothesis. Click-through rates are similar.\")\n",
    "\n",
    "# Example usage\n",
    "layout_a_clicks = [28, 32, 33, 29, 31, 34, 30, 35, 36, 37]\n",
    "layout_b_clicks = [40, 41, 38, 42, 39, 44, 43, 41, 45, 47]\n",
    "\n",
    "perform_ab_test(layout_a_clicks, layout_b_clicks)\n",
    "\n",
    "\n"
   ]
  },
  {
   "cell_type": "code",
   "execution_count": 53,
   "id": "a4528644-6181-4648-ae30-350947521d7f",
   "metadata": {},
   "outputs": [
    {
     "name": "stdout",
     "output_type": "stream",
     "text": [
      "t-statistic: -4.1405\n",
      "p-value: 0.9997\n"
     ]
    }
   ],
   "source": [
    "#A phar:aceutical co:pany wants to deter:ine if a new drug is :ore effective than an existing drug in reducing cholesterol levelsV Create a progra: to analyze the clinical trial data and calculate the t\u0002statistic and p-value for the treat:ent effect.\n",
    "\n",
    "import numpy as np\n",
    "from scipy import stats\n",
    "\n",
    "# Given data\n",
    "existing_drug_levels = np.array([180, 182, 175, 185, 178, 176, 172, 184, 179, 183])\n",
    "new_drug_levels = np.array([170, 172, 165, 168, 175, 173, 170, 178, 172, 176])\n",
    "\n",
    "# Calculate means and standard deviations\n",
    "mean_existing = np.mean(existing_drug_levels)\n",
    "mean_new = np.mean(new_drug_levels)\n",
    "std_existing = np.std(existing_drug_levels, ddof=1)\n",
    "std_new = np.std(new_drug_levels, ddof=1)\n",
    "\n",
    "# Calculate t-statistic\n",
    "n_existing = len(existing_drug_levels)\n",
    "n_new = len(new_drug_levels)\n",
    "t_statistic = (mean_new - mean_existing) / np.sqrt((std_existing**2 / n_existing) + (std_new**2 / n_new))\n",
    "\n",
    "# Calculate degrees of freedom\n",
    "df = n_existing + n_new - 2\n",
    "\n",
    "# Calculate p-value (one-tailed test)\n",
    "p_value = 1 - stats.t.cdf(t_statistic, df=df)\n",
    "\n",
    "print(f\"t-statistic: {t_statistic:.4f}\")\n",
    "print(f\"p-value: {p_value:.4f}\")\n",
    "\n"
   ]
  },
  {
   "cell_type": "code",
   "execution_count": 54,
   "id": "9d7fe703-f9b0-408e-a7f4-01079540dd0c",
   "metadata": {},
   "outputs": [
    {
     "name": "stdout",
     "output_type": "stream",
     "text": [
      "T-statistic: 4.4284\n",
      "P-value: 0.0017\n"
     ]
    }
   ],
   "source": [
    "#17 .A school district introduces an educational intervention progra: to i:prove :ath scoresV Write a Pythonfunction to analyze pre- and post-intervention test scores, calculating the t-statistic and p-value to deter:ine if the intervention had a significant i:pact\n",
    "\n",
    "import numpy as np\n",
    "from scipy import stats\n",
    "\n",
    "def analyze_test_scores(pre_scores, post_scores):\n",
    "    \"\"\"\n",
    "    Analyze pre- and post-intervention test scores using a paired t-test.\n",
    "    \n",
    "    Args:\n",
    "        pre_scores (list): List of pre-intervention test scores.\n",
    "        post_scores (list): List of post-intervention test scores.\n",
    "    \n",
    "    Returns:\n",
    "        t_statistic (float): The t-statistic.\n",
    "        p_value (float): The p-value.\n",
    "    \"\"\"\n",
    "    # Check if the input lists have the same length\n",
    "    if len(pre_scores) != len(post_scores):\n",
    "        raise ValueError(\"Pre and post scores must have the same length.\")\n",
    "    \n",
    "    # Calculate the differences between post and pre scores\n",
    "    differences = np.array(post_scores) - np.array(pre_scores)\n",
    "    \n",
    "    # Perform a paired t-test\n",
    "    t_statistic, p_value = stats.ttest_rel(post_scores, pre_scores)\n",
    "    \n",
    "    return t_statistic, p_value\n",
    "\n",
    "# Example usage\n",
    "pre_intervention_scores = [80, 85, 90, 75, 88, 82, 92, 78, 85, 87]\n",
    "post_intervention_scores = [90, 92, 88, 92, 95, 91, 96, 93, 89, 93]\n",
    "\n",
    "t_stat, p_val = analyze_test_scores(pre_intervention_scores, post_intervention_scores)\n",
    "print(f\"T-statistic: {t_stat:.4f}\")\n",
    "print(f\"P-value: {p_val:.4f}\")\n",
    "\n",
    "\n"
   ]
  },
  {
   "cell_type": "code",
   "execution_count": 58,
   "id": "2699b5c5-3380-46e0-b0d2-2841eaba822d",
   "metadata": {},
   "outputs": [
    {
     "name": "stdout",
     "output_type": "stream",
     "text": [
      "Fail to reject the null hypothesis: No significant difference in salaries.\n",
      "T-Statistic: 1.1458\n",
      "P-Value: 0.2590\n",
      "Degrees of Freedom: 38\n"
     ]
    }
   ],
   "source": [
    "#18 An HR department wants to investigate i@ there's a gender-based salary gap within the company. Develop a program to analyze salary data, calculate the t-statistic, and determine i@ there's a statistically signi@icant di@@erence between the average salaries o@ male and @emale employees\n",
    "\n",
    "import numpy as np\n",
    "from scipy.stats import ttest_ind\n",
    "\n",
    "# Given synthetic data\n",
    "male_salaries = np.random.normal(loc=50000, scale=10000, size=20)\n",
    "female_salaries = np.random.normal(loc=55000, scale=9000, size=20)\n",
    "\n",
    "# Calculate t-statistic and p-value\n",
    "t_statistic, p_value = ttest_ind(male_salaries, female_salaries)\n",
    "\n",
    "# Degrees of freedom\n",
    "df = len(male_salaries) + len(female_salaries) - 2\n",
    "\n",
    "# Check if p-value is less than significance level (e.g., 0.05)\n",
    "alpha = 0.05\n",
    "if p_value < alpha:\n",
    "    print(\"Reject the null hypothesis: There is a significant difference in salaries.\")\n",
    "else:\n",
    "    print(\"Fail to reject the null hypothesis: No significant difference in salaries.\")\n",
    "\n",
    "print(f\"T-Statistic: {t_statistic:.4f}\")\n",
    "print(f\"P-Value: {p_value:.4f}\")\n",
    "print(f\"Degrees of Freedom: {df}\")\n",
    "\n"
   ]
  },
  {
   "cell_type": "code",
   "execution_count": 59,
   "id": "3f07b748-86f4-4f3f-badc-019eaf18ac6a",
   "metadata": {},
   "outputs": [
    {
     "name": "stdout",
     "output_type": "stream",
     "text": [
      "T-statistic: 11.3258\n",
      "P-value: 0.0000\n",
      "Result: There is significant difference between the two versions.\n"
     ]
    }
   ],
   "source": [
    "##19.A manu@acturer produces two di@@erent versions o@ a product and wants to compare their quality scores.Create a Python @unction to analyze quality assessment data, calculate the t-statistic, and decide whether there's a signi@icant di@@erence in quality between the two versions\n",
    "\n",
    "\n",
    "import numpy as np\n",
    "import scipy.stats as stats\n",
    "\n",
    "def compare_quality_scores(version1_scores, version2_scores):\n",
    "    # Calculate the mean and standard deviation for each version\n",
    "    mean1 = np.mean(version1_scores)\n",
    "    mean2 = np.mean(version2_scores)\n",
    "    std1 = np.std(version1_scores, ddof=1)  # Use Bessel's correction for sample standard deviation\n",
    "    std2 = np.std(version2_scores, ddof=1)\n",
    "\n",
    "    # Perform a two-sample t-test\n",
    "    t_statistic, p_value = stats.ttest_ind(version1_scores, version2_scores)\n",
    "\n",
    "    # Decide whether to reject the null hypothesis\n",
    "    alpha = 0.05\n",
    "    if p_value < alpha:\n",
    "        result = \"significant difference\"\n",
    "    else:\n",
    "        result = \"no significant difference\"\n",
    "\n",
    "    return t_statistic, p_value, result\n",
    "\n",
    "# Example usage\n",
    "version1_scores = [85, 88, 82, 89, 87, 84, 90, 88, 85, 86, 91, 83, 87, 84, 89, 86, 84, 88, 85, 86, 89, 90, 87, 88, 85]\n",
    "version2_scores = [80, 78, 83, 81, 79, 82, 76, 80, 78, 81, 77, 82, 80, 79, 82, 79, 80, 81, 79, 82, 79, 78, 80, 81, 82]\n",
    "\n",
    "t_statistic, p_value, result = compare_quality_scores(version1_scores, version2_scores)\n",
    "print(f\"T-statistic: {t_statistic:.4f}\")\n",
    "print(f\"P-value: {p_value:.4f}\")\n",
    "print(f\"Result: There is {result} between the two versions.\")\n",
    "\n",
    "\n",
    "\n"
   ]
  },
  {
   "cell_type": "code",
   "execution_count": 60,
   "id": "aa573a12-49ff-4c15-89f9-e718a247e608",
   "metadata": {},
   "outputs": [
    {
     "name": "stdout",
     "output_type": "stream",
     "text": [
      "Mean score for Branch A: 4.13\n",
      "Mean score for Branch B: 3.13\n",
      "T-statistic: 5.48\n",
      "P-value: 0.0000\n",
      "Conclusion: The difference in customer satisfaction scores is statistically significant (reject null hypothesis).\n"
     ]
    }
   ],
   "source": [
    "#20.A restaurant chain collects customer satis@action scores @or two di@@erent branches. Write a program to analyze the scores, calculate the t-statistic, and determine i@ there's a statistically signi@icant di@@erence in customer satis@action between the branches\n",
    "\n",
    "\n",
    "import numpy as np\n",
    "from scipy import stats\n",
    "\n",
    "# Customer satisfaction scores for Branch A and Branch B\n",
    "branch_a_scores = [4, 5, 3, 4, 5, 4, 5, 3, 4, 4, 5, 4, 4, 3, 4, 5, 5, 4, 3, 4, 5, 4, 3, 5, 4, 4, 5, 3, 4, 5, 4]\n",
    "branch_b_scores = [3, 4, 2, 3, 4, 3, 4, 2, 3, 3, 4, 3, 3, 2, 3, 4, 4, 3, 2, 3, 4, 3, 2, 4, 3, 3, 4, 2, 3, 4, 3]\n",
    "\n",
    "# Calculate mean and standard deviation for each branch\n",
    "mean_a = np.mean(branch_a_scores)\n",
    "mean_b = np.mean(branch_b_scores)\n",
    "std_a = np.std(branch_a_scores, ddof=1)  # Use Bessel's correction for sample standard deviation\n",
    "std_b = np.std(branch_b_scores, ddof=1)\n",
    "\n",
    "# Perform two-sample t-test\n",
    "t_statistic, p_value = stats.ttest_ind(branch_a_scores, branch_b_scores)\n",
    "\n",
    "# Set significance level (alpha)\n",
    "alpha = 0.05\n",
    "\n",
    "# Determine if there's a statistically significant difference\n",
    "if p_value < alpha:\n",
    "    result = \"statistically significant (reject null hypothesis)\"\n",
    "else:\n",
    "    result = \"not statistically significant (fail to reject null hypothesis)\"\n",
    "\n",
    "print(f\"Mean score for Branch A: {mean_a:.2f}\")\n",
    "print(f\"Mean score for Branch B: {mean_b:.2f}\")\n",
    "print(f\"T-statistic: {t_statistic:.2f}\")\n",
    "print(f\"P-value: {p_value:.4f}\")\n",
    "print(f\"Conclusion: The difference in customer satisfaction scores is {result}.\")\n",
    "\n"
   ]
  },
  {
   "cell_type": "code",
   "execution_count": 61,
   "id": "5ca4ea86-5dfc-4563-83f0-a0693c6d5059",
   "metadata": {},
   "outputs": [
    {
     "name": "stdout",
     "output_type": "stream",
     "text": [
      "Chi-Square Statistic: 9.67\n",
      "P-value: 0.0079\n",
      "Degrees of Freedom: 2\n"
     ]
    }
   ],
   "source": [
    "#21.A political analyst wants to determine i@ there is a signi@icant association between age groups and voter pre@erences FCandidate A or Candidate B). They collect data @rom a sample o@ 500 voters and classi@y them into di@@erent age groups and candidate pre@erences. Per@orm a Chi-Square test to determine i@ there is a signi@icant association between age groups and voter pre@erences\n",
    "\n",
    "# Example code for calculating chi-square statistic and p-value\n",
    "import numpy as np\n",
    "from scipy.stats import chi2_contingency\n",
    "\n",
    "# Replace with your actual data\n",
    "observed_frequencies = np.array([[10, 20], [15, 5], [5, 10]])\n",
    "\n",
    "# Perform chi-square test\n",
    "chi2, p, dof, expected = chi2_contingency(observed_frequencies)\n",
    "\n",
    "print(f\"Chi-Square Statistic: {chi2:.2f}\")\n",
    "print(f\"P-value: {p:.4f}\")\n",
    "print(f\"Degrees of Freedom: {dof}\")\n",
    "\n"
   ]
  },
  {
   "cell_type": "code",
   "execution_count": 62,
   "id": "a22baf18-37c7-4af8-9079-ad3ea25a2c8c",
   "metadata": {},
   "outputs": [
    {
     "name": "stdout",
     "output_type": "stream",
     "text": [
      "Chi-Square Statistic: 27.7771\n",
      "P-value: 0.0001\n",
      "Degrees of Freedom: 6\n"
     ]
    }
   ],
   "source": [
    "#22. A company conducted a customer satisfaction survey to determine if there is a significant relationship between product satisfaction levels (Satisfied, Neutral, Dissatisfied) and the region where customers are located (East, West, North, South). The survey data is summarized in a contingency table. Conduct a Chi\u0002Square test to determine if there is a significant relationship between product satisfaction levels and customer regions\n",
    "\n",
    "import numpy as np\n",
    "from scipy.stats import chi2_contingency\n",
    "\n",
    "# Given data\n",
    "data = np.array([[50, 30, 40, 20],\n",
    "                 [30, 40, 30, 50],\n",
    "                 [20, 30, 40, 30]])\n",
    "\n",
    "# Perform Chi-Square test\n",
    "chi2, p, dof, expected = chi2_contingency(data)\n",
    "\n",
    "# Print results\n",
    "print(f\"Chi-Square Statistic: {chi2:.4f}\")\n",
    "print(f\"P-value: {p:.4f}\")\n",
    "print(f\"Degrees of Freedom: {dof}\")\n",
    "\n"
   ]
  },
  {
   "cell_type": "code",
   "execution_count": 63,
   "id": "34d60cc4-4d00-4612-8688-b20dc04714f9",
   "metadata": {},
   "outputs": [
    {
     "name": "stdout",
     "output_type": "stream",
     "text": [
      "Chi-Square Statistic: 22.1617\n",
      "P-value: 0.0002\n",
      "Degrees of Freedom: 4\n",
      "Expected Frequencies:\n",
      "[[34.48275862 34.48275862 31.03448276]\n",
      " [34.48275862 34.48275862 31.03448276]\n",
      " [31.03448276 31.03448276 27.93103448]]\n"
     ]
    }
   ],
   "source": [
    "# A company implemented an employee training program to improve job performance (Effective, Neutral, Ineffective). After the training, they collected data from a sample of employees and classified them based on their job performance before and after the training. Perform a Chi-Square test to determine if there is a significant difference between job performance levels before and after the trainin\n",
    "\n",
    "\n",
    "import numpy as np\n",
    "from scipy.stats import chi2_contingency\n",
    "\n",
    "# Sample data\n",
    "data = np.array([[50, 30, 20], [30, 40, 30], [20, 30, 40]])\n",
    "\n",
    "# Perform the Chi-Square test\n",
    "chi2, p, dof, expected = chi2_contingency(data)\n",
    "\n",
    "# Print the results\n",
    "print(f\"Chi-Square Statistic: {chi2:.4f}\")\n",
    "print(f\"P-value: {p:.4f}\")\n",
    "print(f\"Degrees of Freedom: {dof}\")\n",
    "print(\"Expected Frequencies:\")\n",
    "print(expected)\n",
    "\n",
    "\n"
   ]
  },
  {
   "cell_type": "code",
   "execution_count": 64,
   "id": "ac417476-82c1-43d9-9454-aaafc5ad3442",
   "metadata": {},
   "outputs": [
    {
     "name": "stdout",
     "output_type": "stream",
     "text": [
      "Reject the null hypothesis. There exists a significant difference in customer satisfaction scores.\n"
     ]
    }
   ],
   "source": [
    "#24. A company produces three different versions of a product: Standard, Premium, and Deluxe. The company wants to determine if there is a significant difference in customer satisfaction scores among the three product versions. They conducted a survey and collected customer satisfaction scores for each version from a random sample of customers. Perform an ANOVA test to determine if there is a significant difference in customer satisfaction scores\n",
    "# Sample data: Customer satisfaction scores for each product version\n",
    "standard_scores = [80, 85, 90, 78, 88, 82, 92, 78, 85, 87]\n",
    "premium_scores = [90, 92, 88, 92, 95, 91, 96, 93, 89, 93]\n",
    "deluxe_scores = [95, 98, 92, 97, 96, 94, 98, 97, 92, 99]\n",
    "\n",
    "\n",
    "from scipy.stats import f_oneway\n",
    "\n",
    "# Conduct the one-way ANOVA\n",
    "f_statistic, p_value = f_oneway(standard_scores, premium_scores, deluxe_scores)\n",
    "\n",
    "# Analyze the result\n",
    "if p_value < 0.05:\n",
    "    print(\"Reject the null hypothesis. There exists a significant difference in customer satisfaction scores.\")\n",
    "else:\n",
    "    print(\"Fail to reject the null hypothesis. No significant difference in customer satisfaction scores.\")\n",
    "\n"
   ]
  },
  {
   "cell_type": "code",
   "execution_count": 65,
   "id": "d2ab6a48-f884-4e03-9e73-e91df6d1be2c",
   "metadata": {},
   "outputs": [],
   "source": [
    "#COMPLATE###"
   ]
  },
  {
   "cell_type": "code",
   "execution_count": null,
   "id": "17e25c37-f116-4fde-9001-702721a40daf",
   "metadata": {},
   "outputs": [],
   "source": []
  }
 ],
 "metadata": {
  "kernelspec": {
   "display_name": "Python 3 (ipykernel)",
   "language": "python",
   "name": "python3"
  },
  "language_info": {
   "codemirror_mode": {
    "name": "ipython",
    "version": 3
   },
   "file_extension": ".py",
   "mimetype": "text/x-python",
   "name": "python",
   "nbconvert_exporter": "python",
   "pygments_lexer": "ipython3",
   "version": "3.10.8"
  }
 },
 "nbformat": 4,
 "nbformat_minor": 5
}
